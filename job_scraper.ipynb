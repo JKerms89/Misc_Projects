{
 "cells": [
  {
   "cell_type": "code",
   "execution_count": 1,
   "id": "boxed-scheme",
   "metadata": {},
   "outputs": [],
   "source": [
    "# Import libraries\n",
    "\n",
    "import requests\n",
    "from bs4 import BeautifulSoup\n",
    "import pandas as pd\n",
    "import seaborn as sns\n",
    "import matplotlib.pyplot as plt"
   ]
  },
  {
   "cell_type": "code",
   "execution_count": 2,
   "id": "environmental-connecticut",
   "metadata": {},
   "outputs": [],
   "source": [
    "# Get the website to scrape\n",
    "\n",
    "page = requests.get(\"https://bandi.miur.it/bandi.php/public/cercaFellowship?jf_comp_status_id=2-3&bb_type_code=%25&idarea=%25&azione=cerca\")"
   ]
  },
  {
   "cell_type": "code",
   "execution_count": 3,
   "id": "animal-writing",
   "metadata": {},
   "outputs": [],
   "source": [
    "#Html parser using BS\n",
    "\n",
    "soup = BeautifulSoup(page.content, 'html.parser')"
   ]
  },
  {
   "cell_type": "code",
   "execution_count": 4,
   "id": "false-withdrawal",
   "metadata": {},
   "outputs": [],
   "source": [
    "# Extract title of research projects using a list comprehension\n",
    "\n",
    "titles = [i.get_text() for i in soup.find_all('a', text=True)[4:-2]]"
   ]
  },
  {
   "cell_type": "code",
   "execution_count": 5,
   "id": "controlled-province",
   "metadata": {},
   "outputs": [],
   "source": [
    "# print the list of projects \n",
    "\n",
    "# print(*titles,sep='\\n')\n"
   ]
  },
  {
   "cell_type": "code",
   "execution_count": 6,
   "id": "continuous-franklin",
   "metadata": {},
   "outputs": [],
   "source": [
    "df1 = pd.DataFrame(titles)"
   ]
  },
  {
   "cell_type": "code",
   "execution_count": 7,
   "id": "universal-november",
   "metadata": {},
   "outputs": [],
   "source": [
    "# Extract university names using a list comprehension\n",
    "\n",
    "university = [i.get_text() for i in soup.find_all(\"strong\")]"
   ]
  },
  {
   "cell_type": "code",
   "execution_count": 8,
   "id": "proprietary-rogers",
   "metadata": {},
   "outputs": [],
   "source": [
    "# Create a filter lambda function that removes department (e.g. Settore AGR/02) from the list\n",
    "\n",
    "university = list(filter(lambda x: 'Settore' not in x, university))"
   ]
  },
  {
   "cell_type": "code",
   "execution_count": 9,
   "id": "informed-action",
   "metadata": {},
   "outputs": [],
   "source": [
    "df2 = pd.DataFrame(university)"
   ]
  },
  {
   "cell_type": "code",
   "execution_count": 10,
   "id": "stopped-laptop",
   "metadata": {},
   "outputs": [],
   "source": [
    "# Now i want scrape the deadline of the project call"
   ]
  },
  {
   "cell_type": "code",
   "execution_count": 11,
   "id": "spectacular-weather",
   "metadata": {},
   "outputs": [],
   "source": [
    "# lets take a look at the html to find the relevant html tags\n",
    "\n",
    "# soup.prettify()"
   ]
  },
  {
   "cell_type": "code",
   "execution_count": 12,
   "id": "black-command",
   "metadata": {},
   "outputs": [],
   "source": [
    "# Find all elements with the class 'example-class'\n",
    "elements = soup.find_all(class_='aperto')\n",
    "\n",
    "# Iterate through the elements and print their text\n",
    "\n",
    "# for element in elements:\n",
    "#    print(element.text)"
   ]
  },
  {
   "cell_type": "code",
   "execution_count": 13,
   "id": "pressing-asian",
   "metadata": {},
   "outputs": [],
   "source": [
    "df3 = pd.DataFrame(elements)"
   ]
  },
  {
   "cell_type": "code",
   "execution_count": 14,
   "id": "potential-tuning",
   "metadata": {},
   "outputs": [
    {
     "data": {
      "text/plain": [
       "True"
      ]
     },
     "execution_count": 14,
     "metadata": {},
     "output_type": "execute_result"
    }
   ],
   "source": [
    "# Check the length of the 3 df's (they should be the same len)\n",
    "\n",
    "len(df1) == len(df2) == len(df3)"
   ]
  },
  {
   "cell_type": "code",
   "execution_count": 15,
   "id": "governing-offer",
   "metadata": {},
   "outputs": [],
   "source": [
    "# Merge the two dataframes \n",
    "\n",
    "merged_df = pd.concat([df1, df2, df3], axis=1)"
   ]
  },
  {
   "cell_type": "code",
   "execution_count": 16,
   "id": "eleven-glasgow",
   "metadata": {},
   "outputs": [],
   "source": [
    "merged_df.columns = ['Project', 'University', 'Deadline']\n"
   ]
  },
  {
   "cell_type": "code",
   "execution_count": 17,
   "id": "instructional-playing",
   "metadata": {},
   "outputs": [],
   "source": [
    "# Clean the deadline column to remove the 'scade il giorno' sub-string\n",
    "merged_df['Deadline'] = merged_df['Deadline'].apply(lambda x: x.replace('scade il giorno', ''))"
   ]
  },
  {
   "cell_type": "markdown",
   "id": "paperback-prompt",
   "metadata": {},
   "source": [
    "# \n",
    "# Create Research Job Search filter \n",
    "\n",
    "\n"
   ]
  },
  {
   "cell_type": "code",
   "execution_count": 18,
   "id": "round-belly",
   "metadata": {},
   "outputs": [],
   "source": [
    "includeKeywords = [\"economic\"]"
   ]
  },
  {
   "cell_type": "code",
   "execution_count": 19,
   "id": "pleased-language",
   "metadata": {},
   "outputs": [],
   "source": [
    "# Create new df of filtered list of research projects using a list comprehension\n",
    "\n",
    "df4 = merged_df[merged_df.apply(lambda r: any([kw in r[0] for kw in includeKeywords]), axis=1)]"
   ]
  },
  {
   "cell_type": "code",
   "execution_count": 20,
   "id": "cordless-signal",
   "metadata": {},
   "outputs": [
    {
     "data": {
      "text/html": [
       "<div>\n",
       "<style scoped>\n",
       "    .dataframe tbody tr th:only-of-type {\n",
       "        vertical-align: middle;\n",
       "    }\n",
       "\n",
       "    .dataframe tbody tr th {\n",
       "        vertical-align: top;\n",
       "    }\n",
       "\n",
       "    .dataframe thead th {\n",
       "        text-align: right;\n",
       "    }\n",
       "</style>\n",
       "<table border=\"1\" class=\"dataframe\">\n",
       "  <thead>\n",
       "    <tr style=\"text-align: right;\">\n",
       "      <th></th>\n",
       "      <th>Project</th>\n",
       "      <th>University</th>\n",
       "      <th>Deadline</th>\n",
       "    </tr>\n",
       "  </thead>\n",
       "  <tbody>\n",
       "    <tr>\n",
       "      <th>7</th>\n",
       "      <td>Id 3571 Analisi e sviluppo di modelli macroeco...</td>\n",
       "      <td>Sc.Sup. S.Anna PISA</td>\n",
       "      <td>30/01/2023</td>\n",
       "    </tr>\n",
       "    <tr>\n",
       "      <th>79</th>\n",
       "      <td>Costruzione di una Social Accounting Matrix (S...</td>\n",
       "      <td>Univ. MACERATA</td>\n",
       "      <td>31/01/2023</td>\n",
       "    </tr>\n",
       "    <tr>\n",
       "      <th>184</th>\n",
       "      <td>On the economic sustainability of a regional e...</td>\n",
       "      <td>Univ. BOLOGNA</td>\n",
       "      <td>02/02/2023</td>\n",
       "    </tr>\n",
       "    <tr>\n",
       "      <th>337</th>\n",
       "      <td>Theoretical framework and measurement on the n...</td>\n",
       "      <td>Univ. FIRENZE</td>\n",
       "      <td>10/02/2023</td>\n",
       "    </tr>\n",
       "    <tr>\n",
       "      <th>394</th>\n",
       "      <td>Integrazione di banche dati su consumi sanitar...</td>\n",
       "      <td>Univ. BOLOGNA</td>\n",
       "      <td>15/02/2023</td>\n",
       "    </tr>\n",
       "    <tr>\n",
       "      <th>519</th>\n",
       "      <td>Metodi statistici per l’analisi di dati comple...</td>\n",
       "      <td>Univ. UDINE</td>\n",
       "      <td>28/02/2023</td>\n",
       "    </tr>\n",
       "    <tr>\n",
       "      <th>571</th>\n",
       "      <td>AGEING WELL IN AN AGING SOCIETY: the economic ...</td>\n",
       "      <td>Univ. BOLOGNA</td>\n",
       "      <td>20/03/2023</td>\n",
       "    </tr>\n",
       "    <tr>\n",
       "      <th>621</th>\n",
       "      <td>Alternative protein food: agro-food system eco...</td>\n",
       "      <td>Univ. BOLOGNA</td>\n",
       "      <td>04/04/2023</td>\n",
       "    </tr>\n",
       "    <tr>\n",
       "      <th>659</th>\n",
       "      <td>Advances in economics</td>\n",
       "      <td>Univ. BOLOGNA</td>\n",
       "      <td>31/05/2023</td>\n",
       "    </tr>\n",
       "    <tr>\n",
       "      <th>667</th>\n",
       "      <td>Valutazione degli impatti socioeconomici provo...</td>\n",
       "      <td>Univ. BARI</td>\n",
       "      <td>26/10/2023</td>\n",
       "    </tr>\n",
       "  </tbody>\n",
       "</table>\n",
       "</div>"
      ],
      "text/plain": [
       "                                               Project           University  \\\n",
       "7    Id 3571 Analisi e sviluppo di modelli macroeco...  Sc.Sup. S.Anna PISA   \n",
       "79   Costruzione di una Social Accounting Matrix (S...       Univ. MACERATA   \n",
       "184  On the economic sustainability of a regional e...        Univ. BOLOGNA   \n",
       "337  Theoretical framework and measurement on the n...        Univ. FIRENZE   \n",
       "394  Integrazione di banche dati su consumi sanitar...        Univ. BOLOGNA   \n",
       "519  Metodi statistici per l’analisi di dati comple...          Univ. UDINE   \n",
       "571  AGEING WELL IN AN AGING SOCIETY: the economic ...        Univ. BOLOGNA   \n",
       "621  Alternative protein food: agro-food system eco...        Univ. BOLOGNA   \n",
       "659                              Advances in economics        Univ. BOLOGNA   \n",
       "667  Valutazione degli impatti socioeconomici provo...           Univ. BARI   \n",
       "\n",
       "         Deadline  \n",
       "7      30/01/2023  \n",
       "79     31/01/2023  \n",
       "184    02/02/2023  \n",
       "337    10/02/2023  \n",
       "394    15/02/2023  \n",
       "519    28/02/2023  \n",
       "571    20/03/2023  \n",
       "621    04/04/2023  \n",
       "659    31/05/2023  \n",
       "667    26/10/2023  "
      ]
     },
     "execution_count": 20,
     "metadata": {},
     "output_type": "execute_result"
    }
   ],
   "source": [
    "df4"
   ]
  },
  {
   "cell_type": "code",
   "execution_count": 21,
   "id": "after-network",
   "metadata": {},
   "outputs": [],
   "source": [
    "# Export to excel\n",
    "\n",
    "df4.to_excel(\"output.xlsx\") "
   ]
  },
  {
   "cell_type": "code",
   "execution_count": 22,
   "id": "guilty-pierce",
   "metadata": {},
   "outputs": [],
   "source": [
    "# Create a barplot to see which universities have the most calls open"
   ]
  },
  {
   "cell_type": "code",
   "execution_count": 23,
   "id": "indonesian-covering",
   "metadata": {},
   "outputs": [
    {
     "data": {
      "image/png": "[encoded data removed]",
      "text/plain": [
       "<Figure size 432x288 with 1 Axes>"
      ]
     },
     "metadata": {
      "needs_background": "light"
     },
     "output_type": "display_data"
    }
   ],
   "source": [
    "sns.countplot(x='University', data=df4, order=df4['University'].value_counts().index)\n",
    "\n",
    "# Add a title and labels\n",
    "plt.title('University Counts')\n",
    "plt.xlabel('University')\n",
    "plt.ylabel('Count')\n",
    "\n",
    "# Rotate the x-tick labels\n",
    "plt.xticks(rotation=90)\n",
    "\n",
    "# Show the plot\n",
    "plt.show()"
   ]
  }
 ],
 "metadata": {
  "kernelspec": {
   "display_name": "Python 3",
   "language": "python",
   "name": "python3"
  },
  "language_info": {
   "codemirror_mode": {
    "name": "ipython",
    "version": 3
   },
   "file_extension": ".py",
   "mimetype": "text/x-python",
   "name": "python",
   "nbconvert_exporter": "python",
   "pygments_lexer": "ipython3",
   "version": "3.8.8"
  }
 },
 "nbformat": 4,
 "nbformat_minor": 5
}
